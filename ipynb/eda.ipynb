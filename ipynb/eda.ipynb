{
 "cells": [
  {
   "cell_type": "code",
   "execution_count": 1,
   "metadata": {
    "scrolled": false
   },
   "outputs": [],
   "source": [
    "import pandas as pd\n",
    "import numpy as np\n",
    "import matplotlib.pyplot as plt\n",
    "import seaborn as sns\n",
    "import re\n",
    "import collections"
   ]
  },
  {
   "cell_type": "code",
   "execution_count": 2,
   "metadata": {},
   "outputs": [],
   "source": [
    "reviews = pd.read_csv('../csvs/cleaned.csv', index_col = 0)"
   ]
  },
  {
   "cell_type": "code",
   "execution_count": 3,
   "metadata": {},
   "outputs": [],
   "source": [
    "df = reviews.copy()"
   ]
  },
  {
   "cell_type": "code",
   "execution_count": 4,
   "metadata": {
    "scrolled": false
   },
   "outputs": [
    {
     "data": {
      "text/html": [
       "<div>\n",
       "<style scoped>\n",
       "    .dataframe tbody tr th:only-of-type {\n",
       "        vertical-align: middle;\n",
       "    }\n",
       "\n",
       "    .dataframe tbody tr th {\n",
       "        vertical-align: top;\n",
       "    }\n",
       "\n",
       "    .dataframe thead th {\n",
       "        text-align: right;\n",
       "    }\n",
       "</style>\n",
       "<table border=\"1\" class=\"dataframe\">\n",
       "  <thead>\n",
       "    <tr style=\"text-align: right;\">\n",
       "      <th></th>\n",
       "      <th>null count</th>\n",
       "      <th>total</th>\n",
       "    </tr>\n",
       "  </thead>\n",
       "  <tbody>\n",
       "    <tr>\n",
       "      <td>company</td>\n",
       "      <td>0</td>\n",
       "      <td>6445</td>\n",
       "    </tr>\n",
       "    <tr>\n",
       "      <td>title</td>\n",
       "      <td>5</td>\n",
       "      <td>6440</td>\n",
       "    </tr>\n",
       "    <tr>\n",
       "      <td>name</td>\n",
       "      <td>0</td>\n",
       "      <td>6445</td>\n",
       "    </tr>\n",
       "    <tr>\n",
       "      <td>position</td>\n",
       "      <td>731</td>\n",
       "      <td>5714</td>\n",
       "    </tr>\n",
       "    <tr>\n",
       "      <td>industry</td>\n",
       "      <td>2393</td>\n",
       "      <td>4052</td>\n",
       "    </tr>\n",
       "    <tr>\n",
       "      <td>usage</td>\n",
       "      <td>2735</td>\n",
       "      <td>3710</td>\n",
       "    </tr>\n",
       "    <tr>\n",
       "      <td>paid_status</td>\n",
       "      <td>300</td>\n",
       "      <td>6145</td>\n",
       "    </tr>\n",
       "    <tr>\n",
       "      <td>source</td>\n",
       "      <td>64</td>\n",
       "      <td>6381</td>\n",
       "    </tr>\n",
       "    <tr>\n",
       "      <td>date</td>\n",
       "      <td>0</td>\n",
       "      <td>6445</td>\n",
       "    </tr>\n",
       "    <tr>\n",
       "      <td>total</td>\n",
       "      <td>0</td>\n",
       "      <td>6445</td>\n",
       "    </tr>\n",
       "    <tr>\n",
       "      <td>ease</td>\n",
       "      <td>2</td>\n",
       "      <td>6443</td>\n",
       "    </tr>\n",
       "    <tr>\n",
       "      <td>feature</td>\n",
       "      <td>164</td>\n",
       "      <td>6281</td>\n",
       "    </tr>\n",
       "    <tr>\n",
       "      <td>support</td>\n",
       "      <td>35</td>\n",
       "      <td>6410</td>\n",
       "    </tr>\n",
       "    <tr>\n",
       "      <td>value</td>\n",
       "      <td>322</td>\n",
       "      <td>6123</td>\n",
       "    </tr>\n",
       "    <tr>\n",
       "      <td>recommend</td>\n",
       "      <td>278</td>\n",
       "      <td>6167</td>\n",
       "    </tr>\n",
       "    <tr>\n",
       "      <td>comments</td>\n",
       "      <td>4663</td>\n",
       "      <td>1782</td>\n",
       "    </tr>\n",
       "    <tr>\n",
       "      <td>pros</td>\n",
       "      <td>1174</td>\n",
       "      <td>5271</td>\n",
       "    </tr>\n",
       "    <tr>\n",
       "      <td>cons</td>\n",
       "      <td>1342</td>\n",
       "      <td>5103</td>\n",
       "    </tr>\n",
       "    <tr>\n",
       "      <td>overall</td>\n",
       "      <td>3514</td>\n",
       "      <td>2931</td>\n",
       "    </tr>\n",
       "    <tr>\n",
       "      <td>recommendations to other buyers</td>\n",
       "      <td>6012</td>\n",
       "      <td>433</td>\n",
       "    </tr>\n",
       "    <tr>\n",
       "      <td>employees</td>\n",
       "      <td>3250</td>\n",
       "      <td>3195</td>\n",
       "    </tr>\n",
       "  </tbody>\n",
       "</table>\n",
       "</div>"
      ],
      "text/plain": [
       "                                 null count  total\n",
       "company                                   0   6445\n",
       "title                                     5   6440\n",
       "name                                      0   6445\n",
       "position                                731   5714\n",
       "industry                               2393   4052\n",
       "usage                                  2735   3710\n",
       "paid_status                             300   6145\n",
       "source                                   64   6381\n",
       "date                                      0   6445\n",
       "total                                     0   6445\n",
       "ease                                      2   6443\n",
       "feature                                 164   6281\n",
       "support                                  35   6410\n",
       "value                                   322   6123\n",
       "recommend                               278   6167\n",
       "comments                               4663   1782\n",
       "pros                                   1174   5271\n",
       "cons                                   1342   5103\n",
       "overall                                3514   2931\n",
       "recommendations to other buyers        6012    433\n",
       "employees                              3250   3195"
      ]
     },
     "execution_count": 4,
     "metadata": {},
     "output_type": "execute_result"
    }
   ],
   "source": [
    "pd.DataFrame({'null count':df.isnull().sum(), 'total':df.count()})"
   ]
  },
  {
   "cell_type": "code",
   "execution_count": 9,
   "metadata": {
    "scrolled": true
   },
   "outputs": [
    {
     "data": {
      "text/plain": [
       "Capterra           5644\n",
       "Software Advice     650\n",
       "GetApp               87\n",
       "Name: source, dtype: int64"
      ]
     },
     "execution_count": 9,
     "metadata": {},
     "output_type": "execute_result"
    }
   ],
   "source": [
    "df['source'].value_counts()"
   ]
  },
  {
   "cell_type": "code",
   "execution_count": 10,
   "metadata": {},
   "outputs": [],
   "source": [
    "# tipsGrid = sns.FacetGrid(df, row='date', col='overall', hue='company', palette=\"Set2\")\n",
    "# tipsGrid.map(sns.regplot,'date','overall')\n",
    "# tipsGrid.add_legend()"
   ]
  },
  {
   "cell_type": "code",
   "execution_count": 11,
   "metadata": {},
   "outputs": [
    {
     "data": {
      "text/html": [
       "<div>\n",
       "<style scoped>\n",
       "    .dataframe tbody tr th:only-of-type {\n",
       "        vertical-align: middle;\n",
       "    }\n",
       "\n",
       "    .dataframe tbody tr th {\n",
       "        vertical-align: top;\n",
       "    }\n",
       "\n",
       "    .dataframe thead th {\n",
       "        text-align: right;\n",
       "    }\n",
       "</style>\n",
       "<table border=\"1\" class=\"dataframe\">\n",
       "  <thead>\n",
       "    <tr style=\"text-align: right;\">\n",
       "      <th></th>\n",
       "      <th>company</th>\n",
       "      <th>title</th>\n",
       "      <th>name</th>\n",
       "      <th>position</th>\n",
       "      <th>industry</th>\n",
       "      <th>usage</th>\n",
       "      <th>paid_status</th>\n",
       "      <th>source</th>\n",
       "      <th>date</th>\n",
       "      <th>total</th>\n",
       "      <th>...</th>\n",
       "      <th>feature</th>\n",
       "      <th>support</th>\n",
       "      <th>value</th>\n",
       "      <th>recommend</th>\n",
       "      <th>comments</th>\n",
       "      <th>pros</th>\n",
       "      <th>cons</th>\n",
       "      <th>overall</th>\n",
       "      <th>recommendations to other buyers</th>\n",
       "      <th>employees</th>\n",
       "    </tr>\n",
       "  </thead>\n",
       "  <tbody>\n",
       "    <tr>\n",
       "      <th>0</th>\n",
       "      <td>tix</td>\n",
       "      <td>Tix Cares! *Best ticketing Company...Bar none.</td>\n",
       "      <td>Beatriz B.</td>\n",
       "      <td>Marketing Coordinator</td>\n",
       "      <td>Gambling &amp; Casinos</td>\n",
       "      <td>2+ years</td>\n",
       "      <td>NO</td>\n",
       "      <td>Capterra</td>\n",
       "      <td>2019-02-20</td>\n",
       "      <td>5</td>\n",
       "      <td>...</td>\n",
       "      <td>5.0</td>\n",
       "      <td>5.0</td>\n",
       "      <td>5.0</td>\n",
       "      <td>10.0</td>\n",
       "      <td>NaN</td>\n",
       "      <td>Customer service is the BEST! No words can des...</td>\n",
       "      <td>Not many people know about Tix. If more people...</td>\n",
       "      <td>I had no background on ticketing systems, Tix ...</td>\n",
       "      <td>NaN</td>\n",
       "      <td>1001-5000</td>\n",
       "    </tr>\n",
       "    <tr>\n",
       "      <th>1</th>\n",
       "      <td>tix</td>\n",
       "      <td>Couldn't be more pleased with Tix, Inc.'s web ...</td>\n",
       "      <td>Carleton U.</td>\n",
       "      <td>Treasurer</td>\n",
       "      <td>NaN</td>\n",
       "      <td>NaN</td>\n",
       "      <td>NO</td>\n",
       "      <td>Capterra</td>\n",
       "      <td>2016-04-04</td>\n",
       "      <td>5</td>\n",
       "      <td>...</td>\n",
       "      <td>5.0</td>\n",
       "      <td>5.0</td>\n",
       "      <td>5.0</td>\n",
       "      <td>10.0</td>\n",
       "      <td>After much research into the various vendors f...</td>\n",
       "      <td>NaN</td>\n",
       "      <td>NaN</td>\n",
       "      <td>NaN</td>\n",
       "      <td>NaN</td>\n",
       "      <td>NaN</td>\n",
       "    </tr>\n",
       "    <tr>\n",
       "      <th>2</th>\n",
       "      <td>tix</td>\n",
       "      <td>TIX is the answer we needed--Great support and...</td>\n",
       "      <td>Jennifer E.</td>\n",
       "      <td>Data Systems Coordinator</td>\n",
       "      <td>Religious Institutions</td>\n",
       "      <td>Less than 6 months</td>\n",
       "      <td>NO</td>\n",
       "      <td>Capterra</td>\n",
       "      <td>2016-10-13</td>\n",
       "      <td>5</td>\n",
       "      <td>...</td>\n",
       "      <td>5.0</td>\n",
       "      <td>5.0</td>\n",
       "      <td>5.0</td>\n",
       "      <td>10.0</td>\n",
       "      <td>NaN</td>\n",
       "      <td>Patron experience is excellent. Help library i...</td>\n",
       "      <td>Sometimes the reports do not output to excel c...</td>\n",
       "      <td>We wanted an easy-to-use system where patrons ...</td>\n",
       "      <td>NaN</td>\n",
       "      <td>51-200</td>\n",
       "    </tr>\n",
       "    <tr>\n",
       "      <th>3</th>\n",
       "      <td>tix</td>\n",
       "      <td>The Excellent Customer Service has made workin...</td>\n",
       "      <td>Rita A.</td>\n",
       "      <td>Box Office Manager</td>\n",
       "      <td>NaN</td>\n",
       "      <td>NaN</td>\n",
       "      <td>NO</td>\n",
       "      <td>Capterra</td>\n",
       "      <td>2016-05-04</td>\n",
       "      <td>4</td>\n",
       "      <td>...</td>\n",
       "      <td>5.0</td>\n",
       "      <td>5.0</td>\n",
       "      <td>5.0</td>\n",
       "      <td>10.0</td>\n",
       "      <td>I have worked with these people and this syste...</td>\n",
       "      <td>NaN</td>\n",
       "      <td>NaN</td>\n",
       "      <td>NaN</td>\n",
       "      <td>NaN</td>\n",
       "      <td>NaN</td>\n",
       "    </tr>\n",
       "    <tr>\n",
       "      <th>4</th>\n",
       "      <td>tix</td>\n",
       "      <td>Great ticket company and excellent customer se...</td>\n",
       "      <td>Alan G.</td>\n",
       "      <td>Box Office Manager</td>\n",
       "      <td>NaN</td>\n",
       "      <td>NaN</td>\n",
       "      <td>NO</td>\n",
       "      <td>Capterra</td>\n",
       "      <td>2016-04-22</td>\n",
       "      <td>5</td>\n",
       "      <td>...</td>\n",
       "      <td>5.0</td>\n",
       "      <td>5.0</td>\n",
       "      <td>5.0</td>\n",
       "      <td>10.0</td>\n",
       "      <td>PROS-\\n\\n-24/7 support and customer service\\n\\...</td>\n",
       "      <td>NaN</td>\n",
       "      <td>NaN</td>\n",
       "      <td>NaN</td>\n",
       "      <td>NaN</td>\n",
       "      <td>NaN</td>\n",
       "    </tr>\n",
       "  </tbody>\n",
       "</table>\n",
       "<p>5 rows × 21 columns</p>\n",
       "</div>"
      ],
      "text/plain": [
       "  company                                              title         name  \\\n",
       "0     tix     Tix Cares! *Best ticketing Company...Bar none.   Beatriz B.   \n",
       "1     tix  Couldn't be more pleased with Tix, Inc.'s web ...  Carleton U.   \n",
       "2     tix  TIX is the answer we needed--Great support and...  Jennifer E.   \n",
       "3     tix  The Excellent Customer Service has made workin...      Rita A.   \n",
       "4     tix  Great ticket company and excellent customer se...      Alan G.   \n",
       "\n",
       "                   position                industry               usage  \\\n",
       "0     Marketing Coordinator      Gambling & Casinos            2+ years   \n",
       "1                 Treasurer                     NaN                 NaN   \n",
       "2  Data Systems Coordinator  Religious Institutions  Less than 6 months   \n",
       "3        Box Office Manager                     NaN                 NaN   \n",
       "4        Box Office Manager                     NaN                 NaN   \n",
       "\n",
       "  paid_status    source        date  total  ...  feature  support  value  \\\n",
       "0          NO  Capterra  2019-02-20      5  ...      5.0      5.0    5.0   \n",
       "1          NO  Capterra  2016-04-04      5  ...      5.0      5.0    5.0   \n",
       "2          NO  Capterra  2016-10-13      5  ...      5.0      5.0    5.0   \n",
       "3          NO  Capterra  2016-05-04      4  ...      5.0      5.0    5.0   \n",
       "4          NO  Capterra  2016-04-22      5  ...      5.0      5.0    5.0   \n",
       "\n",
       "   recommend                                           comments  \\\n",
       "0       10.0                                                NaN   \n",
       "1       10.0  After much research into the various vendors f...   \n",
       "2       10.0                                                NaN   \n",
       "3       10.0  I have worked with these people and this syste...   \n",
       "4       10.0  PROS-\\n\\n-24/7 support and customer service\\n\\...   \n",
       "\n",
       "                                                pros  \\\n",
       "0  Customer service is the BEST! No words can des...   \n",
       "1                                                NaN   \n",
       "2  Patron experience is excellent. Help library i...   \n",
       "3                                                NaN   \n",
       "4                                                NaN   \n",
       "\n",
       "                                                cons  \\\n",
       "0  Not many people know about Tix. If more people...   \n",
       "1                                                NaN   \n",
       "2  Sometimes the reports do not output to excel c...   \n",
       "3                                                NaN   \n",
       "4                                                NaN   \n",
       "\n",
       "                                             overall  \\\n",
       "0  I had no background on ticketing systems, Tix ...   \n",
       "1                                                NaN   \n",
       "2  We wanted an easy-to-use system where patrons ...   \n",
       "3                                                NaN   \n",
       "4                                                NaN   \n",
       "\n",
       "  recommendations to other buyers  employees  \n",
       "0                             NaN  1001-5000  \n",
       "1                             NaN        NaN  \n",
       "2                             NaN     51-200  \n",
       "3                             NaN        NaN  \n",
       "4                             NaN        NaN  \n",
       "\n",
       "[5 rows x 21 columns]"
      ]
     },
     "execution_count": 11,
     "metadata": {},
     "output_type": "execute_result"
    }
   ],
   "source": [
    "df.head()"
   ]
  },
  {
   "cell_type": "code",
   "execution_count": 15,
   "metadata": {
    "scrolled": true
   },
   "outputs": [
    {
     "data": {
      "text/plain": [
       "11"
      ]
     },
     "execution_count": 15,
     "metadata": {},
     "output_type": "execute_result"
    }
   ],
   "source": [
    "a = df.company.value_counts()\n",
    "a[a > 100]"
   ]
  },
  {
   "cell_type": "code",
   "execution_count": 181,
   "metadata": {
    "scrolled": false
   },
   "outputs": [
    {
     "data": {
      "text/plain": [
       "Text(0.5, 1.0, 'Median Overall Rating for Each Company')"
      ]
     },
     "execution_count": 181,
     "metadata": {},
     "output_type": "execute_result"
    },
    {
     "data": {
      "image/png": "[encoded data removed]",
      "text/plain": [
       "<Figure size 864x432 with 1 Axes>"
      ]
     },
     "metadata": {
      "needs_background": "light"
     },
     "output_type": "display_data"
    }
   ],
   "source": [
    "plt.figure(figsize=(12,6))\n",
    "df.groupby('company')['total'].median().sort_values(ascending=False).plot.bar(colormap='Paired')\n",
    "plt.xlabel('Company')\n",
    "plt.ylabel('Overall Rating')\n",
    "plt.title('Median Overall Rating for Each Company')"
   ]
  },
  {
   "cell_type": "code",
   "execution_count": 5,
   "metadata": {},
   "outputs": [],
   "source": [
    "df_100 = df.groupby('company').filter(lambda x: x.company.value_counts() > 100)"
   ]
  },
  {
   "cell_type": "code",
   "execution_count": 26,
   "metadata": {
    "scrolled": false
   },
   "outputs": [
    {
     "data": {
      "text/plain": [
       "<matplotlib.legend.Legend at 0x1a20dd2f60>"
      ]
     },
     "execution_count": 26,
     "metadata": {},
     "output_type": "execute_result"
    },
    {
     "data": {
      "image/png": "[encoded data removed]",
      "text/plain": [
       "<Figure size 432x288 with 1 Axes>"
      ]
     },
     "metadata": {
      "needs_background": "light"
     },
     "output_type": "display_data"
    }
   ],
   "source": [
    "plt.hist(df['total'])\n",
    "plt.hist(df_100['total'])\n",
    "plt.xlabel('Overall Rating')\n",
    "plt.ylabel('Count')\n",
    "plt.title('Overall Rating', fontsize=20)\n",
    "plt.gca().legend(('df','df_100'))"
   ]
  },
  {
   "cell_type": "code",
   "execution_count": 23,
   "metadata": {
    "scrolled": true
   },
   "outputs": [
    {
     "data": {
      "text/plain": [
       "Text(0.5, 1.0, 'Recommendation Levels for Companies with over 100 Reviews')"
      ]
     },
     "execution_count": 23,
     "metadata": {},
     "output_type": "execute_result"
    },
    {
     "data": {
      "image/png": "[encoded data removed]",
      "text/plain": [
       "<Figure size 432x288 with 1 Axes>"
      ]
     },
     "metadata": {
      "needs_background": "light"
     },
     "output_type": "display_data"
    }
   ],
   "source": [
    "sns.countplot(df_100['recommend'])\n",
    "plt.xlabel('Recommendation Level')\n",
    "plt.ylabel('Number of Recommendations')\n",
    "plt.title('Recommendation Levels for Companies with over 100 Reviews')"
   ]
  },
  {
   "cell_type": "code",
   "execution_count": 8,
   "metadata": {
    "scrolled": false
   },
   "outputs": [
    {
     "data": {
      "text/plain": [
       "Text(0.5, 1.0, 'Recommendation Levels for Companies')"
      ]
     },
     "execution_count": 8,
     "metadata": {},
     "output_type": "execute_result"
    },
    {
     "data": {
      "image/png": "[encoded data removed]",
      "text/plain": [
       "<Figure size 432x288 with 1 Axes>"
      ]
     },
     "metadata": {
      "needs_background": "light"
     },
     "output_type": "display_data"
    }
   ],
   "source": [
    "sns.countplot(df['recommend'], palette = \"Set2\")\n",
    "plt.xlabel('Recommendation Level')\n",
    "plt.ylabel('Number of Recommendations')\n",
    "plt.title('Recommendation Levels for Companies')"
   ]
  },
  {
   "cell_type": "code",
   "execution_count": 25,
   "metadata": {
    "scrolled": true
   },
   "outputs": [
    {
     "data": {
      "text/plain": [
       "Text(0.5, 1.0, 'Paid Status for Companies with over 100 Reviews')"
      ]
     },
     "execution_count": 25,
     "metadata": {},
     "output_type": "execute_result"
    },
    {
     "data": {
      "image/png": "[encoded data removed]",
      "text/plain": [
       "<Figure size 432x288 with 1 Axes>"
      ]
     },
     "metadata": {
      "needs_background": "light"
     },
     "output_type": "display_data"
    }
   ],
   "source": [
    "sns.countplot(df_100['paid_status'])\n",
    "plt.xlabel('Paid Status')\n",
    "plt.ylabel('Number')\n",
    "plt.title('Paid Status for Companies with over 100 Reviews')"
   ]
  },
  {
   "cell_type": "code",
   "execution_count": 14,
   "metadata": {},
   "outputs": [
    {
     "data": {
      "text/html": [
       "<div>\n",
       "<style scoped>\n",
       "    .dataframe tbody tr th:only-of-type {\n",
       "        vertical-align: middle;\n",
       "    }\n",
       "\n",
       "    .dataframe tbody tr th {\n",
       "        vertical-align: top;\n",
       "    }\n",
       "\n",
       "    .dataframe thead th {\n",
       "        text-align: right;\n",
       "    }\n",
       "</style>\n",
       "<table border=\"1\" class=\"dataframe\">\n",
       "  <thead>\n",
       "    <tr style=\"text-align: right;\">\n",
       "      <th></th>\n",
       "      <th>total</th>\n",
       "      <th>recommend</th>\n",
       "    </tr>\n",
       "    <tr>\n",
       "      <th>paid_status</th>\n",
       "      <th></th>\n",
       "      <th></th>\n",
       "    </tr>\n",
       "  </thead>\n",
       "  <tbody>\n",
       "    <tr>\n",
       "      <td>NGC</td>\n",
       "      <td>4.598272</td>\n",
       "      <td>8.784881</td>\n",
       "    </tr>\n",
       "    <tr>\n",
       "      <td>NO</td>\n",
       "      <td>4.683457</td>\n",
       "      <td>9.073701</td>\n",
       "    </tr>\n",
       "    <tr>\n",
       "      <td>PGC</td>\n",
       "      <td>4.000000</td>\n",
       "      <td>6.500000</td>\n",
       "    </tr>\n",
       "    <tr>\n",
       "      <td>VRI</td>\n",
       "      <td>4.887417</td>\n",
       "      <td>9.569536</td>\n",
       "    </tr>\n",
       "  </tbody>\n",
       "</table>\n",
       "</div>"
      ],
      "text/plain": [
       "                total  recommend\n",
       "paid_status                     \n",
       "NGC          4.598272   8.784881\n",
       "NO           4.683457   9.073701\n",
       "PGC          4.000000   6.500000\n",
       "VRI          4.887417   9.569536"
      ]
     },
     "execution_count": 14,
     "metadata": {},
     "output_type": "execute_result"
    }
   ],
   "source": [
    "df_100.groupby('paid_status').agg({'total':'mean', 'recommend':'mean'})"
   ]
  },
  {
   "cell_type": "code",
   "execution_count": 13,
   "metadata": {},
   "outputs": [
    {
     "data": {
      "text/plain": [
       "NGC    2315\n",
       "NO     1886\n",
       "VRI     151\n",
       "PGC       2\n",
       "Name: paid_status, dtype: int64"
      ]
     },
     "execution_count": 13,
     "metadata": {},
     "output_type": "execute_result"
    }
   ],
   "source": [
    "df_100['paid_status'].value_counts()"
   ]
  },
  {
   "cell_type": "code",
   "execution_count": 7,
   "metadata": {
    "scrolled": false
   },
   "outputs": [],
   "source": [
    "# plt.figure(figsize=(12,6))\n",
    "# df_eventbrite = df.loc[df['company'] == 'eventbrite']\n",
    "\n",
    "# df_eventbrite.dropna(subset=['total']).groupby('date').total.mean().plot()\n",
    "# plt.xlabel('Date')\n",
    "# plt.ylabel('Overall Rating')\n",
    "# plt.title('Overall Rating Time Series - Eventbrite')\n"
   ]
  },
  {
   "cell_type": "code",
   "execution_count": 6,
   "metadata": {
    "scrolled": false
   },
   "outputs": [],
   "source": [
    "# plt.figure(figsize=(12,6))\n",
    "# df_eventix = df.loc[df['company'] == 'eventix']\n",
    "\n",
    "# df_eventix.dropna(subset=['total']).groupby('date').total.mean().plot()\n",
    "# plt.xlabel('Date')\n",
    "# plt.ylabel('Overall Rating')\n",
    "# plt.title('Overall Rating Time Series - Eventix')"
   ]
  },
  {
   "cell_type": "code",
   "execution_count": null,
   "metadata": {},
   "outputs": [],
   "source": []
  }
 ],
 "metadata": {
  "kernelspec": {
   "display_name": "Python 3",
   "language": "python",
   "name": "python3"
  },
  "language_info": {
   "codemirror_mode": {
    "name": "ipython",
    "version": 3
   },
   "file_extension": ".py",
   "mimetype": "text/x-python",
   "name": "python",
   "nbconvert_exporter": "python",
   "pygments_lexer": "ipython3",
   "version": "3.7.3"
  }
 },
 "nbformat": 4,
 "nbformat_minor": 2
}
